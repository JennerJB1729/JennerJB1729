{
  "nbformat": 4,
  "nbformat_minor": 0,
  "metadata": {
    "colab": {
      "name": "Examen.ipynb",
      "provenance": [],
      "authorship_tag": "ABX9TyM/6nDeQAle8xnNW4cPa9Wn",
      "include_colab_link": true
    },
    "kernelspec": {
      "name": "python3",
      "display_name": "Python 3"
    },
    "language_info": {
      "name": "python"
    }
  },
  "cells": [
    {
      "cell_type": "markdown",
      "metadata": {
        "id": "view-in-github",
        "colab_type": "text"
      },
      "source": [
        "<a href=\"https://colab.research.google.com/github/JennerJB1729/JennerJB1729/blob/main/Examen.ipynb\" target=\"_parent\"><img src=\"https://colab.research.google.com/assets/colab-badge.svg\" alt=\"Open In Colab\"/></a>"
      ]
    },
    {
      "cell_type": "code",
      "execution_count": null,
      "metadata": {
        "id": "ON8frhfxwMKO"
      },
      "outputs": [],
      "source": [
        "import numpy as np\n",
        "import pandas as pd\n",
        "from sklearn.model_selection import train_test_split as tts"
      ]
    },
    {
      "cell_type": "code",
      "source": [
        "#Procesamiento\n",
        "from sklearn.preprocessing import StandardScaler \n",
        "from sklearn.preprocessing import MinMaxScaler\n",
        "from sklearn.preprocessing import LabelEncoder\n",
        "\n",
        "from numpy.core.numeric import NaN\n",
        "from sklearn.impute import SimpleImputer"
      ],
      "metadata": {
        "id": "eI-O6Rav9Pjd"
      },
      "execution_count": null,
      "outputs": []
    },
    {
      "cell_type": "code",
      "source": [
        "#Modelos de clasificación\n",
        "from sklearn.neighbors import KNeighborsClassifier as knc\n",
        "from sklearn.svm import SVC\n"
      ],
      "metadata": {
        "id": "jVCVdaXpvcUi"
      },
      "execution_count": null,
      "outputs": []
    },
    {
      "cell_type": "code",
      "source": [
        "#Modelos de regresión\n",
        "from sklearn.linear_model import LinearRegression\n",
        "from sklearn.ensemble import RandomForestRegressor as RFR"
      ],
      "metadata": {
        "id": "bNf1YY7pER2d"
      },
      "execution_count": null,
      "outputs": []
    },
    {
      "cell_type": "code",
      "source": [
        "#Métricas para clasificación\n",
        "from sklearn.metrics import classification_report, confusion_matrix, accuracy_score,multilabel_confusion_matrix,recall_score,precision_score\n",
        "from sklearn.metrics import r2_score, mean_squared_error"
      ],
      "metadata": {
        "id": "LTbYr4-hvjGW"
      },
      "execution_count": null,
      "outputs": []
    },
    {
      "cell_type": "code",
      "source": [
        "#Redes neuronales\n",
        "import tensorflow as tf"
      ],
      "metadata": {
        "id": "JEVNKnJlBqtI"
      },
      "execution_count": null,
      "outputs": []
    },
    {
      "cell_type": "code",
      "source": [
        "#Imágenes\n",
        "import matplotlib.pyplot as plt"
      ],
      "metadata": {
        "id": "t96PHpjOHYpg"
      },
      "execution_count": null,
      "outputs": []
    },
    {
      "cell_type": "markdown",
      "source": [
        "#Pregunta 1: Establezca 2 modelos de clasificación para el data Iris\n",
        "----"
      ],
      "metadata": {
        "id": "149h8CdWwPgT"
      }
    },
    {
      "cell_type": "code",
      "source": [
        "from sklearn import datasets\n",
        "from sklearn.model_selection import train_test_split as tts"
      ],
      "metadata": {
        "id": "Lc2xZZ5pxlEX"
      },
      "execution_count": null,
      "outputs": []
    },
    {
      "cell_type": "code",
      "source": [
        "iris = datasets.load_iris()\n",
        "x1=iris.data\n",
        "y1=iris.target\n",
        "print(iris.DESCR)"
      ],
      "metadata": {
        "id": "AELu74mwxR9R"
      },
      "execution_count": null,
      "outputs": []
    },
    {
      "cell_type": "code",
      "source": [
        "print(np.shape(x1))\n",
        "print(np.shape(y1))\n",
        "y1=np.reshape(y1,(len(y1),1))\n",
        "print(np.shape(y1))\n"
      ],
      "metadata": {
        "colab": {
          "base_uri": "https://localhost:8080/"
        },
        "id": "i0hPQYQi8l-7",
        "outputId": "f889bace-cf50-4e8c-b106-3db13d81c9ad"
      },
      "execution_count": null,
      "outputs": [
        {
          "output_type": "stream",
          "name": "stdout",
          "text": [
            "(150, 4)\n",
            "(150,)\n",
            "(150, 1)\n"
          ]
        }
      ]
    },
    {
      "cell_type": "code",
      "source": [
        "print(x1[0,:])"
      ],
      "metadata": {
        "colab": {
          "base_uri": "https://localhost:8080/"
        },
        "id": "PcQ5taNaF0qV",
        "outputId": "8ba39292-053c-42f0-e542-62200a7e1c42"
      },
      "execution_count": null,
      "outputs": [
        {
          "output_type": "stream",
          "name": "stdout",
          "text": [
            "[5.1 3.5 1.4 0.2]\n"
          ]
        }
      ]
    },
    {
      "cell_type": "code",
      "source": [
        "#división de la data\n",
        "x1train,x1test,y1train,y1test=tts(x1,y1,test_size=0.30,random_state=42)"
      ],
      "metadata": {
        "id": "7eb39qTs_6zq"
      },
      "execution_count": null,
      "outputs": []
    },
    {
      "cell_type": "code",
      "source": [
        "#Método de KNN\n",
        "from sklearn.neighbors import KNeighborsClassifier as knc\n",
        "\n",
        "modeloKNN=knc(n_neighbors=5)\n",
        "modeloKNN.fit(x1train,y1train)\n",
        "modeloKNN"
      ],
      "metadata": {
        "colab": {
          "base_uri": "https://localhost:8080/"
        },
        "id": "oQyHETS-9P9n",
        "outputId": "d3d0090c-fd77-4c0c-cbf4-70794c767713"
      },
      "execution_count": null,
      "outputs": [
        {
          "output_type": "stream",
          "name": "stderr",
          "text": [
            "/usr/local/lib/python3.7/dist-packages/sklearn/neighbors/_classification.py:198: DataConversionWarning: A column-vector y was passed when a 1d array was expected. Please change the shape of y to (n_samples,), for example using ravel().\n",
            "  return self._fit(X, y)\n"
          ]
        },
        {
          "output_type": "execute_result",
          "data": {
            "text/plain": [
              "KNeighborsClassifier()"
            ]
          },
          "metadata": {},
          "execution_count": 19
        }
      ]
    },
    {
      "cell_type": "code",
      "source": [
        "#Realizar una predicción de los valores de prueba\n",
        "\n",
        "y1predtest=modeloKNN.predict(x1test)\n",
        "y1predtrain=modeloKNN.predict(x1train)\n"
      ],
      "metadata": {
        "id": "PQrNlcIKBOrw"
      },
      "execution_count": null,
      "outputs": []
    },
    {
      "cell_type": "code",
      "source": [
        "from sklearn.metrics import classification_report, confusion_matrix, accuracy_score\n",
        "# Para entrenamiento\n",
        "Rtrain1 = confusion_matrix(y1train, y1predtrain)\n",
        "Rtrain2 = classification_report(y1train,y1predtrain)\n",
        "Rtrain3 = accuracy_score(y1train,y1predtrain)\n",
        "\n",
        "print('Matriz de confusión para entrenamiento')\n",
        "print(Rtrain1)\n",
        "print('Reporte de clasificación para entrenamiento')\n",
        "print (Rtrain2)\n",
        "print('Precisión del entrenamiento: ',Rtrain3) \n",
        "\n",
        "#Para validación\n",
        "Rtest1 = confusion_matrix(y1test, y1predtest)\n",
        "Rtest2 = classification_report(y1test,y1predtest)\n",
        "Rtest3 = accuracy_score(y1test,y1predtest)\n",
        "\n",
        "print('Matriz de confusión para validación')\n",
        "print(Rtest1)\n",
        "print('Reporte de clasificación para validación')\n",
        "print (Rtest2)\n",
        "print('Precisión de la validación: ',Rtest3) "
      ],
      "metadata": {
        "colab": {
          "base_uri": "https://localhost:8080/"
        },
        "id": "3UeM7os1J-1v",
        "outputId": "a2df766d-bc54-4bee-869c-5a517e41f0e4"
      },
      "execution_count": null,
      "outputs": [
        {
          "output_type": "stream",
          "name": "stdout",
          "text": [
            "Matriz de confusión para entrenamiento\n",
            "[[31  0  0]\n",
            " [ 0 33  4]\n",
            " [ 0  1 36]]\n",
            "Reporte de clasificación para entrenamiento\n",
            "              precision    recall  f1-score   support\n",
            "\n",
            "           0       1.00      1.00      1.00        31\n",
            "           1       0.97      0.89      0.93        37\n",
            "           2       0.90      0.97      0.94        37\n",
            "\n",
            "    accuracy                           0.95       105\n",
            "   macro avg       0.96      0.95      0.95       105\n",
            "weighted avg       0.95      0.95      0.95       105\n",
            "\n",
            "Precisión del entrenamiento:  0.9523809523809523\n",
            "Matriz de confusión para validación\n",
            "[[19  0  0]\n",
            " [ 0 13  0]\n",
            " [ 0  0 13]]\n",
            "Reporte de clasificación para validación\n",
            "              precision    recall  f1-score   support\n",
            "\n",
            "           0       1.00      1.00      1.00        19\n",
            "           1       1.00      1.00      1.00        13\n",
            "           2       1.00      1.00      1.00        13\n",
            "\n",
            "    accuracy                           1.00        45\n",
            "   macro avg       1.00      1.00      1.00        45\n",
            "weighted avg       1.00      1.00      1.00        45\n",
            "\n",
            "Precisión de la validación:  1.0\n"
          ]
        }
      ]
    },
    {
      "cell_type": "code",
      "source": [
        "# MÉTODO 2: SVC (Support Vector Clasificator)\n",
        "from sklearn.svm import SVC\n",
        "\n",
        "#Modelo\n",
        "svcModel=SVC(gamma='scale') #Kernel radial\n",
        "svcModel.fit(x1train,y1train)\n",
        "\n",
        "#Predicciones\n",
        "y1predtest2=svcModel.predict(x1test)\n",
        "y1predtrain2=svcModel.predict(x1train)"
      ],
      "metadata": {
        "colab": {
          "base_uri": "https://localhost:8080/"
        },
        "id": "hNJBW2RkMRsz",
        "outputId": "e1d18de9-6ef2-43b5-ceed-62a5a7f40624"
      },
      "execution_count": null,
      "outputs": [
        {
          "output_type": "stream",
          "name": "stderr",
          "text": [
            "/usr/local/lib/python3.7/dist-packages/sklearn/utils/validation.py:993: DataConversionWarning: A column-vector y was passed when a 1d array was expected. Please change the shape of y to (n_samples, ), for example using ravel().\n",
            "  y = column_or_1d(y, warn=True)\n"
          ]
        }
      ]
    },
    {
      "cell_type": "code",
      "source": [
        "from sklearn.metrics import multilabel_confusion_matrix"
      ],
      "metadata": {
        "id": "J8DqWtm1Ol_S"
      },
      "execution_count": null,
      "outputs": []
    },
    {
      "cell_type": "code",
      "source": [
        "#Para entrenamiento\n",
        "Rtra1=multilabel_confusion_matrix(y1train,y1predtrain2)\n",
        "Rtra2 = classification_report(y1train,y1predtrain2)\n",
        "Rtra3 = accuracy_score(y1train,y1predtrain2)\n",
        "print('Matriz de confusión para el entrenamiento:')\n",
        "print(Rtra1)\n",
        "print('Reporte de clasificación para entrenamiento')\n",
        "print (Rtra2)\n",
        "print('Precisión de el entrenamiento: ',Rtra3) \n",
        "print(\"-\"*64)\n",
        "#Para validación\n",
        "Rest1=multilabel_confusion_matrix(y1test,y1predtest2)\n",
        "Rest2 = classification_report(y1test,y1predtest2)\n",
        "Rest3 = accuracy_score(y1test,y1predtest2)\n",
        "print('Matriz de confusión para la validación:')\n",
        "print(Rest1)\n",
        "print('Reporte de clasificación para validación')\n",
        "print (Rest2)\n",
        "print('Precisión de la validación: ',Rest3) "
      ],
      "metadata": {
        "colab": {
          "base_uri": "https://localhost:8080/"
        },
        "id": "Ky7jtanDOY5W",
        "outputId": "660a31de-35a8-4570-d7e2-140125bc9ab2"
      },
      "execution_count": null,
      "outputs": [
        {
          "output_type": "stream",
          "name": "stdout",
          "text": [
            "Matriz de confusión para el entrenamiento:\n",
            "[[[74  0]\n",
            "  [ 0 31]]\n",
            "\n",
            " [[67  1]\n",
            "  [ 3 34]]\n",
            "\n",
            " [[65  3]\n",
            "  [ 1 36]]]\n",
            "Reporte de clasificación para entrenamiento\n",
            "              precision    recall  f1-score   support\n",
            "\n",
            "           0       1.00      1.00      1.00        31\n",
            "           1       0.97      0.92      0.94        37\n",
            "           2       0.92      0.97      0.95        37\n",
            "\n",
            "    accuracy                           0.96       105\n",
            "   macro avg       0.96      0.96      0.96       105\n",
            "weighted avg       0.96      0.96      0.96       105\n",
            "\n",
            "Precisión de el entrenamiento:  0.9619047619047619\n",
            "----------------------------------------------------------------\n",
            "Matriz de confusión para la validación:\n",
            "[[[26  0]\n",
            "  [ 0 19]]\n",
            "\n",
            " [[32  0]\n",
            "  [ 0 13]]\n",
            "\n",
            " [[32  0]\n",
            "  [ 0 13]]]\n",
            "Reporte de clasificación para validación\n",
            "              precision    recall  f1-score   support\n",
            "\n",
            "           0       1.00      1.00      1.00        19\n",
            "           1       1.00      1.00      1.00        13\n",
            "           2       1.00      1.00      1.00        13\n",
            "\n",
            "    accuracy                           1.00        45\n",
            "   macro avg       1.00      1.00      1.00        45\n",
            "weighted avg       1.00      1.00      1.00        45\n",
            "\n",
            "Precisión de la validación:  1.0\n"
          ]
        }
      ]
    },
    {
      "cell_type": "markdown",
      "source": [
        "# Pregunta 2: Evalúa 2 modelos: Uno con PCA y otro sin PCA para el modelo de clasificación del dataset melbournhouses\n",
        "---"
      ],
      "metadata": {
        "id": "73D6ne3wwa0v"
      }
    },
    {
      "cell_type": "code",
      "source": [
        "#Procesamiento de la data\n",
        "data1=pd.read_csv('https://raw.githubusercontent.com/pedrorotta/PythonIntermedio2022/main/Examen/melbournehouses.csv') \n",
        "data1.head()"
      ],
      "metadata": {
        "id": "VKYReed6wkA-",
        "colab": {
          "base_uri": "https://localhost:8080/",
          "height": 392
        },
        "outputId": "64102074-18d0-491d-acc9-464c36a98327"
      },
      "execution_count": null,
      "outputs": [
        {
          "output_type": "execute_result",
          "data": {
            "text/html": [
              "\n",
              "  <div id=\"df-83fe7a4b-ef00-4300-b6bc-dd91251e2e95\">\n",
              "    <div class=\"colab-df-container\">\n",
              "      <div>\n",
              "<style scoped>\n",
              "    .dataframe tbody tr th:only-of-type {\n",
              "        vertical-align: middle;\n",
              "    }\n",
              "\n",
              "    .dataframe tbody tr th {\n",
              "        vertical-align: top;\n",
              "    }\n",
              "\n",
              "    .dataframe thead th {\n",
              "        text-align: right;\n",
              "    }\n",
              "</style>\n",
              "<table border=\"1\" class=\"dataframe\">\n",
              "  <thead>\n",
              "    <tr style=\"text-align: right;\">\n",
              "      <th></th>\n",
              "      <th>Suburb</th>\n",
              "      <th>Address</th>\n",
              "      <th>Rooms</th>\n",
              "      <th>Type</th>\n",
              "      <th>Price</th>\n",
              "      <th>Method</th>\n",
              "      <th>SellerG</th>\n",
              "      <th>Date</th>\n",
              "      <th>Distance</th>\n",
              "      <th>Postcode</th>\n",
              "      <th>Bedroom2</th>\n",
              "      <th>Bathroom</th>\n",
              "      <th>Car</th>\n",
              "      <th>Landsize</th>\n",
              "      <th>BuildingArea</th>\n",
              "      <th>YearBuilt</th>\n",
              "      <th>CouncilArea</th>\n",
              "      <th>Lattitude</th>\n",
              "      <th>Longtitude</th>\n",
              "      <th>Regionname</th>\n",
              "      <th>Propertycount</th>\n",
              "    </tr>\n",
              "  </thead>\n",
              "  <tbody>\n",
              "    <tr>\n",
              "      <th>0</th>\n",
              "      <td>Abbotsford</td>\n",
              "      <td>85 Turner St</td>\n",
              "      <td>2</td>\n",
              "      <td>h</td>\n",
              "      <td>1480000.0</td>\n",
              "      <td>S</td>\n",
              "      <td>Biggin</td>\n",
              "      <td>3/12/2016</td>\n",
              "      <td>2.5</td>\n",
              "      <td>3067.0</td>\n",
              "      <td>2.0</td>\n",
              "      <td>1.0</td>\n",
              "      <td>1.0</td>\n",
              "      <td>202.0</td>\n",
              "      <td>NaN</td>\n",
              "      <td>NaN</td>\n",
              "      <td>Yarra</td>\n",
              "      <td>-37.7996</td>\n",
              "      <td>144.9984</td>\n",
              "      <td>Northern Metropolitan</td>\n",
              "      <td>4019.0</td>\n",
              "    </tr>\n",
              "    <tr>\n",
              "      <th>1</th>\n",
              "      <td>Abbotsford</td>\n",
              "      <td>25 Bloomburg St</td>\n",
              "      <td>2</td>\n",
              "      <td>h</td>\n",
              "      <td>1035000.0</td>\n",
              "      <td>S</td>\n",
              "      <td>Biggin</td>\n",
              "      <td>4/02/2016</td>\n",
              "      <td>2.5</td>\n",
              "      <td>3067.0</td>\n",
              "      <td>2.0</td>\n",
              "      <td>1.0</td>\n",
              "      <td>0.0</td>\n",
              "      <td>156.0</td>\n",
              "      <td>79.0</td>\n",
              "      <td>1900.0</td>\n",
              "      <td>Yarra</td>\n",
              "      <td>-37.8079</td>\n",
              "      <td>144.9934</td>\n",
              "      <td>Northern Metropolitan</td>\n",
              "      <td>4019.0</td>\n",
              "    </tr>\n",
              "    <tr>\n",
              "      <th>2</th>\n",
              "      <td>Abbotsford</td>\n",
              "      <td>5 Charles St</td>\n",
              "      <td>3</td>\n",
              "      <td>h</td>\n",
              "      <td>1465000.0</td>\n",
              "      <td>SP</td>\n",
              "      <td>Biggin</td>\n",
              "      <td>4/03/2017</td>\n",
              "      <td>2.5</td>\n",
              "      <td>3067.0</td>\n",
              "      <td>3.0</td>\n",
              "      <td>2.0</td>\n",
              "      <td>0.0</td>\n",
              "      <td>134.0</td>\n",
              "      <td>150.0</td>\n",
              "      <td>1900.0</td>\n",
              "      <td>Yarra</td>\n",
              "      <td>-37.8093</td>\n",
              "      <td>144.9944</td>\n",
              "      <td>Northern Metropolitan</td>\n",
              "      <td>4019.0</td>\n",
              "    </tr>\n",
              "    <tr>\n",
              "      <th>3</th>\n",
              "      <td>Abbotsford</td>\n",
              "      <td>40 Federation La</td>\n",
              "      <td>3</td>\n",
              "      <td>h</td>\n",
              "      <td>850000.0</td>\n",
              "      <td>PI</td>\n",
              "      <td>Biggin</td>\n",
              "      <td>4/03/2017</td>\n",
              "      <td>2.5</td>\n",
              "      <td>3067.0</td>\n",
              "      <td>3.0</td>\n",
              "      <td>2.0</td>\n",
              "      <td>1.0</td>\n",
              "      <td>94.0</td>\n",
              "      <td>NaN</td>\n",
              "      <td>NaN</td>\n",
              "      <td>Yarra</td>\n",
              "      <td>-37.7969</td>\n",
              "      <td>144.9969</td>\n",
              "      <td>Northern Metropolitan</td>\n",
              "      <td>4019.0</td>\n",
              "    </tr>\n",
              "    <tr>\n",
              "      <th>4</th>\n",
              "      <td>Abbotsford</td>\n",
              "      <td>55a Park St</td>\n",
              "      <td>4</td>\n",
              "      <td>h</td>\n",
              "      <td>1600000.0</td>\n",
              "      <td>VB</td>\n",
              "      <td>Nelson</td>\n",
              "      <td>4/06/2016</td>\n",
              "      <td>2.5</td>\n",
              "      <td>3067.0</td>\n",
              "      <td>3.0</td>\n",
              "      <td>1.0</td>\n",
              "      <td>2.0</td>\n",
              "      <td>120.0</td>\n",
              "      <td>142.0</td>\n",
              "      <td>2014.0</td>\n",
              "      <td>Yarra</td>\n",
              "      <td>-37.8072</td>\n",
              "      <td>144.9941</td>\n",
              "      <td>Northern Metropolitan</td>\n",
              "      <td>4019.0</td>\n",
              "    </tr>\n",
              "  </tbody>\n",
              "</table>\n",
              "</div>\n",
              "      <button class=\"colab-df-convert\" onclick=\"convertToInteractive('df-83fe7a4b-ef00-4300-b6bc-dd91251e2e95')\"\n",
              "              title=\"Convert this dataframe to an interactive table.\"\n",
              "              style=\"display:none;\">\n",
              "        \n",
              "  <svg xmlns=\"http://www.w3.org/2000/svg\" height=\"24px\"viewBox=\"0 0 24 24\"\n",
              "       width=\"24px\">\n",
              "    <path d=\"M0 0h24v24H0V0z\" fill=\"none\"/>\n",
              "    <path d=\"M18.56 5.44l.94 2.06.94-2.06 2.06-.94-2.06-.94-.94-2.06-.94 2.06-2.06.94zm-11 1L8.5 8.5l.94-2.06 2.06-.94-2.06-.94L8.5 2.5l-.94 2.06-2.06.94zm10 10l.94 2.06.94-2.06 2.06-.94-2.06-.94-.94-2.06-.94 2.06-2.06.94z\"/><path d=\"M17.41 7.96l-1.37-1.37c-.4-.4-.92-.59-1.43-.59-.52 0-1.04.2-1.43.59L10.3 9.45l-7.72 7.72c-.78.78-.78 2.05 0 2.83L4 21.41c.39.39.9.59 1.41.59.51 0 1.02-.2 1.41-.59l7.78-7.78 2.81-2.81c.8-.78.8-2.07 0-2.86zM5.41 20L4 18.59l7.72-7.72 1.47 1.35L5.41 20z\"/>\n",
              "  </svg>\n",
              "      </button>\n",
              "      \n",
              "  <style>\n",
              "    .colab-df-container {\n",
              "      display:flex;\n",
              "      flex-wrap:wrap;\n",
              "      gap: 12px;\n",
              "    }\n",
              "\n",
              "    .colab-df-convert {\n",
              "      background-color: #E8F0FE;\n",
              "      border: none;\n",
              "      border-radius: 50%;\n",
              "      cursor: pointer;\n",
              "      display: none;\n",
              "      fill: #1967D2;\n",
              "      height: 32px;\n",
              "      padding: 0 0 0 0;\n",
              "      width: 32px;\n",
              "    }\n",
              "\n",
              "    .colab-df-convert:hover {\n",
              "      background-color: #E2EBFA;\n",
              "      box-shadow: 0px 1px 2px rgba(60, 64, 67, 0.3), 0px 1px 3px 1px rgba(60, 64, 67, 0.15);\n",
              "      fill: #174EA6;\n",
              "    }\n",
              "\n",
              "    [theme=dark] .colab-df-convert {\n",
              "      background-color: #3B4455;\n",
              "      fill: #D2E3FC;\n",
              "    }\n",
              "\n",
              "    [theme=dark] .colab-df-convert:hover {\n",
              "      background-color: #434B5C;\n",
              "      box-shadow: 0px 1px 3px 1px rgba(0, 0, 0, 0.15);\n",
              "      filter: drop-shadow(0px 1px 2px rgba(0, 0, 0, 0.3));\n",
              "      fill: #FFFFFF;\n",
              "    }\n",
              "  </style>\n",
              "\n",
              "      <script>\n",
              "        const buttonEl =\n",
              "          document.querySelector('#df-83fe7a4b-ef00-4300-b6bc-dd91251e2e95 button.colab-df-convert');\n",
              "        buttonEl.style.display =\n",
              "          google.colab.kernel.accessAllowed ? 'block' : 'none';\n",
              "\n",
              "        async function convertToInteractive(key) {\n",
              "          const element = document.querySelector('#df-83fe7a4b-ef00-4300-b6bc-dd91251e2e95');\n",
              "          const dataTable =\n",
              "            await google.colab.kernel.invokeFunction('convertToInteractive',\n",
              "                                                     [key], {});\n",
              "          if (!dataTable) return;\n",
              "\n",
              "          const docLinkHtml = 'Like what you see? Visit the ' +\n",
              "            '<a target=\"_blank\" href=https://colab.research.google.com/notebooks/data_table.ipynb>data table notebook</a>'\n",
              "            + ' to learn more about interactive tables.';\n",
              "          element.innerHTML = '';\n",
              "          dataTable['output_type'] = 'display_data';\n",
              "          await google.colab.output.renderOutput(dataTable, element);\n",
              "          const docLink = document.createElement('div');\n",
              "          docLink.innerHTML = docLinkHtml;\n",
              "          element.appendChild(docLink);\n",
              "        }\n",
              "      </script>\n",
              "    </div>\n",
              "  </div>\n",
              "  "
            ],
            "text/plain": [
              "       Suburb           Address  ...             Regionname Propertycount\n",
              "0  Abbotsford      85 Turner St  ...  Northern Metropolitan        4019.0\n",
              "1  Abbotsford   25 Bloomburg St  ...  Northern Metropolitan        4019.0\n",
              "2  Abbotsford      5 Charles St  ...  Northern Metropolitan        4019.0\n",
              "3  Abbotsford  40 Federation La  ...  Northern Metropolitan        4019.0\n",
              "4  Abbotsford       55a Park St  ...  Northern Metropolitan        4019.0\n",
              "\n",
              "[5 rows x 21 columns]"
            ]
          },
          "metadata": {},
          "execution_count": 6
        }
      ]
    },
    {
      "cell_type": "code",
      "source": [
        "data1.count()"
      ],
      "metadata": {
        "id": "DrQDFDkG8apu"
      },
      "execution_count": null,
      "outputs": []
    },
    {
      "cell_type": "code",
      "source": [
        "array_room=np.array(data1['Rooms'])\n",
        "array_distance=np.array(data1['Distance'])\n",
        "array_cuartos=np.array(data1['Bedroom2'])\n",
        "array_baños=np.array(data1['Bathroom'])\n",
        "array_area=np.array(data1['Landsize'])\n",
        "x2=np.c_[array_room,array_distance,array_cuartos,array_baños,array_area]\n",
        "print(x2[0,:])"
      ],
      "metadata": {
        "colab": {
          "base_uri": "https://localhost:8080/"
        },
        "id": "ma507fICnGO-",
        "outputId": "6c0e5f03-794c-447e-a8cf-55cdedaece27"
      },
      "execution_count": null,
      "outputs": [
        {
          "output_type": "stream",
          "name": "stdout",
          "text": [
            "[  2.    2.5   2.    1.  202. ]\n"
          ]
        }
      ]
    },
    {
      "cell_type": "code",
      "source": [
        "y2=np.array(data1['Price'])"
      ],
      "metadata": {
        "id": "Y7PxzpbhaX-Y"
      },
      "execution_count": null,
      "outputs": []
    },
    {
      "cell_type": "code",
      "source": [
        "print(np.shape(x2))\n",
        "print(np.shape(y2))\n",
        "y2=np.reshape(y2,(13580,1))\n",
        "print(np.shape(y2))"
      ],
      "metadata": {
        "colab": {
          "base_uri": "https://localhost:8080/"
        },
        "id": "wZh_6oIZrd27",
        "outputId": "9869ab88-8bff-4517-e938-cf4e40e5a58c"
      },
      "execution_count": null,
      "outputs": [
        {
          "output_type": "stream",
          "name": "stdout",
          "text": [
            "(13580, 5)\n",
            "(13580,)\n",
            "(13580, 1)\n"
          ]
        }
      ]
    },
    {
      "cell_type": "code",
      "source": [
        "#Estandarizar data\n",
        "scaler = StandardScaler().fit(x2)\n",
        "x2_stand = scaler.transform(x2)\n",
        "scaler2 = StandardScaler().fit(y2)\n",
        "y2_stand = scaler2.transform(y2)"
      ],
      "metadata": {
        "id": "KDGuNqW7tsT8"
      },
      "execution_count": null,
      "outputs": []
    },
    {
      "cell_type": "code",
      "source": [
        "print(x2)\n",
        "print(x2_stand)"
      ],
      "metadata": {
        "colab": {
          "base_uri": "https://localhost:8080/"
        },
        "id": "jWEbEsJk9zgG",
        "outputId": "3bbdab41-06b4-4cc7-80c8-620bcc6155e3"
      },
      "execution_count": null,
      "outputs": [
        {
          "output_type": "stream",
          "name": "stdout",
          "text": [
            "[[  2.    2.5   2.    1.  202. ]\n",
            " [  2.    2.5   2.    1.  156. ]\n",
            " [  3.    2.5   3.    2.  134. ]\n",
            " ...\n",
            " [  3.    6.8   3.    2.  436. ]\n",
            " [  4.    6.8   4.    1.  866. ]\n",
            " [  4.    6.3   4.    1.  362. ]]\n",
            "[[-0.98146337 -1.30148498 -0.94703517 -0.77237552 -0.08931566]\n",
            " [-0.98146337 -1.30148498 -0.94703517 -0.77237552 -0.10084297]\n",
            " [ 0.06487613 -1.30148498  0.08828423  0.67336667 -0.10635603]\n",
            " ...\n",
            " [ 0.06487613 -0.56876052  0.08828423  0.67336667 -0.03067672]\n",
            " [ 1.11121563 -0.56876052  1.12360364 -0.77237552  0.0770786 ]\n",
            " [ 1.11121563 -0.65396104  1.12360364 -0.77237552 -0.04922066]]\n"
          ]
        }
      ]
    },
    {
      "cell_type": "code",
      "source": [
        "#Escalamiento\n",
        "escalador=MinMaxScaler()\n",
        "#escalador.fit(x2)\n",
        "x2_scal=escalador.fit_transform(x2_stand)\n",
        "y2_scal=escalador.fit_transform(y2_stand)"
      ],
      "metadata": {
        "id": "zkR26RVRsq8p"
      },
      "execution_count": null,
      "outputs": []
    },
    {
      "cell_type": "code",
      "source": [
        "#PCA\n",
        "from sklearn.decomposition import PCA\n",
        "pca1=PCA(n_components=2)\n",
        "\n",
        "pca1.fit(x2_scal)\n",
        "x2pca=pca1.transform(x2_scal)\n",
        "print(np.shape(x2pca))\n",
        "print(x2pca[0:10,:])"
      ],
      "metadata": {
        "colab": {
          "base_uri": "https://localhost:8080/"
        },
        "id": "cS4teo0F0hmn",
        "outputId": "feb962ab-c08d-4c0e-90de-cbb8f09690c1"
      },
      "execution_count": null,
      "outputs": [
        {
          "output_type": "stream",
          "name": "stdout",
          "text": [
            "(13580, 2)\n",
            "[[-0.20165642  0.0433002 ]\n",
            " [-0.20165667  0.04330017]\n",
            " [-0.0698368   0.15192717]\n",
            " [-0.06983702  0.15192714]\n",
            " [-0.04742086  0.14782293]\n",
            " [-0.20165654  0.04330019]\n",
            " [-0.0558543   0.16116013]\n",
            " [-0.20165613  0.04330024]\n",
            " [-0.28576647 -0.01357776]\n",
            " [-0.18767442  0.05253311]]\n"
          ]
        }
      ]
    },
    {
      "cell_type": "code",
      "source": [
        "#Modelo Lineal con PCA\n",
        "\n",
        "#División de la data\n",
        "x2train,x2test,y2train,y2test=tts(x2pca,y2_scal,test_size=0.30,random_state=42)\n",
        "#Modelo\n",
        "modelLineal=LinearRegression()\n",
        "modelLineal.fit(x2train,y2train)\n",
        "#Predicción\n",
        "y2predtest1=modelLineal.predict(x2test)\n",
        "y2predtrain1=modelLineal.predict(x2train)\n",
        "\n",
        "#Metricas\n",
        "r2_train_pca=r2_score(y2train,y2predtrain1)\n",
        "mean_train_pca=mean_squared_error(y2train,y2predtrain1)\n",
        "\n",
        "r2_test_pca=r2_score(y2test,y2predtest1)\n",
        "mean_test_pca=mean_squared_error(y2test,y2predtest1)"
      ],
      "metadata": {
        "id": "ZmneSimgt_Ps"
      },
      "execution_count": null,
      "outputs": []
    },
    {
      "cell_type": "code",
      "source": [
        "#Modelo Lineal sin PCA\n",
        "\n",
        "#División de la data\n",
        "x2train2,x2test2,y2train2,y2test2=tts(x2,y2,test_size=0.30,random_state=42)\n",
        "#Modelo\n",
        "modelLineal=LinearRegression()\n",
        "modelLineal.fit(x2train2,y2train2)\n",
        "#Predicción\n",
        "y2predtest2=modelLineal.predict(x2test2)\n",
        "y2predtrain2=modelLineal.predict(x2train2)\n",
        "\n",
        "r2_train=r2_score(y2train2,y2predtrain2)\n",
        "mean_train=mean_squared_error(y2train2,y2predtrain2)\n",
        "\n",
        "r2_test=r2_score(y2test2,y2predtest2)\n",
        "mean_test=mean_squared_error(y2test2,y2predtest2)"
      ],
      "metadata": {
        "id": "JWoeM8uGGtg1"
      },
      "execution_count": null,
      "outputs": []
    },
    {
      "cell_type": "code",
      "source": [
        "# Resultados\n",
        "\n",
        "print('Resultados del modelo Lineal con PCA')\n",
        "print('El r^2 para entrenamiento es: ',r2_train_pca)\n",
        "print('El r^2 para validación es: ',r2_test_pca)\n",
        "print('El error cuadrático medio para entrenamiento es: ',mean_train_pca)\n",
        "print('El error cuadrático medio para validación es: ',mean_test_pca)\n",
        "print(\"-\"*100)\n",
        "print('Resultados del modelo Lineal sin PCA')\n",
        "print('El r^2 para entrenamiento es: ',r2_train)\n",
        "print('El r^2 para validación es: ',r2_test)\n",
        "print('El error cuadrático medio para entrenamiento es: ',mean_train)\n",
        "print('El error cuadrático medio para validación es: ',mean_test)\n"
      ],
      "metadata": {
        "colab": {
          "base_uri": "https://localhost:8080/"
        },
        "id": "Vgv088C0FPo3",
        "outputId": "e92ebac4-3fd1-4b11-da76-f1dd66ea9e6c"
      },
      "execution_count": null,
      "outputs": [
        {
          "output_type": "stream",
          "name": "stdout",
          "text": [
            "Resultados del modelo Lineal con PCA\n",
            "El r^2 para entrenamiento es:  0.39035791885842863\n",
            "El r^2 para validación es:  0.38639448604304394\n",
            "El error cuadrático medio para entrenamiento es:  0.0030973459559899114\n",
            "El error cuadrático medio para validación es:  0.0032425541309816556\n",
            "----------------------------------------------------------------------------------------------------\n",
            "Resultados del modelo Lineal sin PCA\n",
            "El r^2 para entrenamiento es:  0.39168747223019384\n",
            "El r^2 para validación es:  0.3698770470594992\n",
            "El error cuadrático medio para entrenamiento es:  245631598723.7187\n",
            "El error cuadrático medio para validación es:  264646391017.85114\n"
          ]
        }
      ]
    },
    {
      "cell_type": "markdown",
      "source": [
        "**Comentarios:** Es notoria que la implementación del PCA con el modelo mejora la predicción de los datos de prueba, pues se consigue un valor relativamente más alto del r^2 y errores significativamente más bajos."
      ],
      "metadata": {
        "id": "pJKrQsUgur_u"
      }
    },
    {
      "cell_type": "markdown",
      "source": [
        "#Pregunta 3: ¿Existe sobreajuste al aplicar un modelo de RF con n = 200 para el modelo de wine.csv? \n",
        "---"
      ],
      "metadata": {
        "id": "-UPvE7hpwkdF"
      }
    },
    {
      "cell_type": "code",
      "source": [
        "data2=pd.read_excel('/content/wine.xlsx')\n",
        "data2.head()"
      ],
      "metadata": {
        "id": "2KwmASfqwra4",
        "colab": {
          "base_uri": "https://localhost:8080/",
          "height": 354
        },
        "outputId": "edc04e75-2424-43aa-b037-346fbb20479c"
      },
      "execution_count": null,
      "outputs": [
        {
          "output_type": "execute_result",
          "data": {
            "text/html": [
              "\n",
              "  <div id=\"df-9fea2bbe-823f-47cd-bb55-ecfd9f512fce\">\n",
              "    <div class=\"colab-df-container\">\n",
              "      <div>\n",
              "<style scoped>\n",
              "    .dataframe tbody tr th:only-of-type {\n",
              "        vertical-align: middle;\n",
              "    }\n",
              "\n",
              "    .dataframe tbody tr th {\n",
              "        vertical-align: top;\n",
              "    }\n",
              "\n",
              "    .dataframe thead th {\n",
              "        text-align: right;\n",
              "    }\n",
              "</style>\n",
              "<table border=\"1\" class=\"dataframe\">\n",
              "  <thead>\n",
              "    <tr style=\"text-align: right;\">\n",
              "      <th></th>\n",
              "      <th>Unnamed: 0</th>\n",
              "      <th>country</th>\n",
              "      <th>description</th>\n",
              "      <th>designation</th>\n",
              "      <th>points</th>\n",
              "      <th>price</th>\n",
              "      <th>province</th>\n",
              "      <th>region_1</th>\n",
              "      <th>region_2</th>\n",
              "      <th>variety</th>\n",
              "      <th>winery</th>\n",
              "    </tr>\n",
              "  </thead>\n",
              "  <tbody>\n",
              "    <tr>\n",
              "      <th>0</th>\n",
              "      <td>0</td>\n",
              "      <td>US</td>\n",
              "      <td>This tremendous 100% varietal wine hails from ...</td>\n",
              "      <td>Martha's Vineyard</td>\n",
              "      <td>96</td>\n",
              "      <td>235.0</td>\n",
              "      <td>California</td>\n",
              "      <td>Napa Valley</td>\n",
              "      <td>Napa</td>\n",
              "      <td>Cabernet Sauvignon</td>\n",
              "      <td>Heitz</td>\n",
              "    </tr>\n",
              "    <tr>\n",
              "      <th>1</th>\n",
              "      <td>1</td>\n",
              "      <td>Spain</td>\n",
              "      <td>Ripe aromas of fig, blackberry and cassis are ...</td>\n",
              "      <td>Carodorum Selección Especial Reserva</td>\n",
              "      <td>96</td>\n",
              "      <td>110.0</td>\n",
              "      <td>Northern Spain</td>\n",
              "      <td>Toro</td>\n",
              "      <td>NaN</td>\n",
              "      <td>Tinta de Toro</td>\n",
              "      <td>Bodega Carmen Rodríguez</td>\n",
              "    </tr>\n",
              "    <tr>\n",
              "      <th>2</th>\n",
              "      <td>2</td>\n",
              "      <td>US</td>\n",
              "      <td>Mac Watson honors the memory of a wine once ma...</td>\n",
              "      <td>Special Selected Late Harvest</td>\n",
              "      <td>96</td>\n",
              "      <td>90.0</td>\n",
              "      <td>California</td>\n",
              "      <td>Knights Valley</td>\n",
              "      <td>Sonoma</td>\n",
              "      <td>Sauvignon Blanc</td>\n",
              "      <td>Macauley</td>\n",
              "    </tr>\n",
              "    <tr>\n",
              "      <th>3</th>\n",
              "      <td>3</td>\n",
              "      <td>US</td>\n",
              "      <td>This spent 20 months in 30% new French oak, an...</td>\n",
              "      <td>Reserve</td>\n",
              "      <td>96</td>\n",
              "      <td>65.0</td>\n",
              "      <td>Oregon</td>\n",
              "      <td>Willamette Valley</td>\n",
              "      <td>Willamette Valley</td>\n",
              "      <td>Pinot Noir</td>\n",
              "      <td>Ponzi</td>\n",
              "    </tr>\n",
              "    <tr>\n",
              "      <th>4</th>\n",
              "      <td>4</td>\n",
              "      <td>France</td>\n",
              "      <td>This is the top wine from La Bégude, named aft...</td>\n",
              "      <td>La Brûlade</td>\n",
              "      <td>95</td>\n",
              "      <td>66.0</td>\n",
              "      <td>Provence</td>\n",
              "      <td>Bandol</td>\n",
              "      <td>NaN</td>\n",
              "      <td>Provence red blend</td>\n",
              "      <td>Domaine de la Bégude</td>\n",
              "    </tr>\n",
              "  </tbody>\n",
              "</table>\n",
              "</div>\n",
              "      <button class=\"colab-df-convert\" onclick=\"convertToInteractive('df-9fea2bbe-823f-47cd-bb55-ecfd9f512fce')\"\n",
              "              title=\"Convert this dataframe to an interactive table.\"\n",
              "              style=\"display:none;\">\n",
              "        \n",
              "  <svg xmlns=\"http://www.w3.org/2000/svg\" height=\"24px\"viewBox=\"0 0 24 24\"\n",
              "       width=\"24px\">\n",
              "    <path d=\"M0 0h24v24H0V0z\" fill=\"none\"/>\n",
              "    <path d=\"M18.56 5.44l.94 2.06.94-2.06 2.06-.94-2.06-.94-.94-2.06-.94 2.06-2.06.94zm-11 1L8.5 8.5l.94-2.06 2.06-.94-2.06-.94L8.5 2.5l-.94 2.06-2.06.94zm10 10l.94 2.06.94-2.06 2.06-.94-2.06-.94-.94-2.06-.94 2.06-2.06.94z\"/><path d=\"M17.41 7.96l-1.37-1.37c-.4-.4-.92-.59-1.43-.59-.52 0-1.04.2-1.43.59L10.3 9.45l-7.72 7.72c-.78.78-.78 2.05 0 2.83L4 21.41c.39.39.9.59 1.41.59.51 0 1.02-.2 1.41-.59l7.78-7.78 2.81-2.81c.8-.78.8-2.07 0-2.86zM5.41 20L4 18.59l7.72-7.72 1.47 1.35L5.41 20z\"/>\n",
              "  </svg>\n",
              "      </button>\n",
              "      \n",
              "  <style>\n",
              "    .colab-df-container {\n",
              "      display:flex;\n",
              "      flex-wrap:wrap;\n",
              "      gap: 12px;\n",
              "    }\n",
              "\n",
              "    .colab-df-convert {\n",
              "      background-color: #E8F0FE;\n",
              "      border: none;\n",
              "      border-radius: 50%;\n",
              "      cursor: pointer;\n",
              "      display: none;\n",
              "      fill: #1967D2;\n",
              "      height: 32px;\n",
              "      padding: 0 0 0 0;\n",
              "      width: 32px;\n",
              "    }\n",
              "\n",
              "    .colab-df-convert:hover {\n",
              "      background-color: #E2EBFA;\n",
              "      box-shadow: 0px 1px 2px rgba(60, 64, 67, 0.3), 0px 1px 3px 1px rgba(60, 64, 67, 0.15);\n",
              "      fill: #174EA6;\n",
              "    }\n",
              "\n",
              "    [theme=dark] .colab-df-convert {\n",
              "      background-color: #3B4455;\n",
              "      fill: #D2E3FC;\n",
              "    }\n",
              "\n",
              "    [theme=dark] .colab-df-convert:hover {\n",
              "      background-color: #434B5C;\n",
              "      box-shadow: 0px 1px 3px 1px rgba(0, 0, 0, 0.15);\n",
              "      filter: drop-shadow(0px 1px 2px rgba(0, 0, 0, 0.3));\n",
              "      fill: #FFFFFF;\n",
              "    }\n",
              "  </style>\n",
              "\n",
              "      <script>\n",
              "        const buttonEl =\n",
              "          document.querySelector('#df-9fea2bbe-823f-47cd-bb55-ecfd9f512fce button.colab-df-convert');\n",
              "        buttonEl.style.display =\n",
              "          google.colab.kernel.accessAllowed ? 'block' : 'none';\n",
              "\n",
              "        async function convertToInteractive(key) {\n",
              "          const element = document.querySelector('#df-9fea2bbe-823f-47cd-bb55-ecfd9f512fce');\n",
              "          const dataTable =\n",
              "            await google.colab.kernel.invokeFunction('convertToInteractive',\n",
              "                                                     [key], {});\n",
              "          if (!dataTable) return;\n",
              "\n",
              "          const docLinkHtml = 'Like what you see? Visit the ' +\n",
              "            '<a target=\"_blank\" href=https://colab.research.google.com/notebooks/data_table.ipynb>data table notebook</a>'\n",
              "            + ' to learn more about interactive tables.';\n",
              "          element.innerHTML = '';\n",
              "          dataTable['output_type'] = 'display_data';\n",
              "          await google.colab.output.renderOutput(dataTable, element);\n",
              "          const docLink = document.createElement('div');\n",
              "          docLink.innerHTML = docLinkHtml;\n",
              "          element.appendChild(docLink);\n",
              "        }\n",
              "      </script>\n",
              "    </div>\n",
              "  </div>\n",
              "  "
            ],
            "text/plain": [
              "   Unnamed: 0 country  ...             variety                   winery\n",
              "0           0      US  ...  Cabernet Sauvignon                    Heitz\n",
              "1           1   Spain  ...       Tinta de Toro  Bodega Carmen Rodríguez\n",
              "2           2      US  ...     Sauvignon Blanc                 Macauley\n",
              "3           3      US  ...          Pinot Noir                    Ponzi\n",
              "4           4  France  ...  Provence red blend     Domaine de la Bégude\n",
              "\n",
              "[5 rows x 11 columns]"
            ]
          },
          "metadata": {},
          "execution_count": 55
        }
      ]
    },
    {
      "cell_type": "code",
      "source": [
        "data2.count()"
      ],
      "metadata": {
        "colab": {
          "base_uri": "https://localhost:8080/"
        },
        "id": "2yWiARvMehu9",
        "outputId": "a10eb6e1-616f-458e-89ed-e868caefce1c"
      },
      "execution_count": null,
      "outputs": [
        {
          "output_type": "execute_result",
          "data": {
            "text/plain": [
              "Unnamed: 0     150930\n",
              "country        150925\n",
              "description    150930\n",
              "designation    105195\n",
              "points         150930\n",
              "price          137235\n",
              "province       150925\n",
              "region_1       125870\n",
              "region_2        60953\n",
              "variety        150930\n",
              "winery         150930\n",
              "dtype: int64"
            ]
          },
          "metadata": {},
          "execution_count": 57
        }
      ]
    },
    {
      "cell_type": "code",
      "source": [
        "print(np.shape(data2))"
      ],
      "metadata": {
        "colab": {
          "base_uri": "https://localhost:8080/"
        },
        "id": "vXsYtGqhxPwk",
        "outputId": "6b8fbcfb-fd66-4031-9a41-14836f2e6b0b"
      },
      "execution_count": null,
      "outputs": [
        {
          "output_type": "stream",
          "name": "stdout",
          "text": [
            "(150930, 11)\n"
          ]
        }
      ]
    },
    {
      "cell_type": "code",
      "source": [
        "data2['country'].value_counts()"
      ],
      "metadata": {
        "id": "oPsL3djn1wVh"
      },
      "execution_count": null,
      "outputs": []
    },
    {
      "cell_type": "code",
      "source": [
        "a=len(data2['country'].unique())\n",
        "print(a)"
      ],
      "metadata": {
        "colab": {
          "base_uri": "https://localhost:8080/"
        },
        "id": "IsyqxKVe4vg2",
        "outputId": "e46a843b-b31f-4ade-ced8-339ef5dc162c"
      },
      "execution_count": null,
      "outputs": [
        {
          "output_type": "stream",
          "name": "stdout",
          "text": [
            "49\n"
          ]
        }
      ]
    },
    {
      "cell_type": "code",
      "source": [
        "data2['variety'].value_counts()"
      ],
      "metadata": {
        "id": "ALw3OFhk1eoB"
      },
      "execution_count": null,
      "outputs": []
    },
    {
      "cell_type": "code",
      "source": [
        "#Planteamiento del problema: Se buscará como influye la procedencia, la puntuación y la variedad de la uva en el precio de su vino\n",
        "\n",
        "#Procesamiento\n",
        "\n",
        "# 1) CODIFICAR los datos de las siguientes columnas\n",
        "array_country=np.array(data2['country'])\n",
        "array_variety=np.array(data2['variety'])\n",
        "encoder=LabelEncoder()\n",
        "Pais=encoder.fit_transform(array_country)\n",
        "Variedad=encoder.fit_transform(array_variety)\n",
        "print(Pais[0:15])\n",
        "print(\"-\"*25)\n",
        "print(Variedad[0:15])"
      ],
      "metadata": {
        "colab": {
          "base_uri": "https://localhost:8080/"
        },
        "id": "SAZ9s4lI15-9",
        "outputId": "e23d0c83-7b17-4f80-ac80-2b72a0d9c0d5"
      },
      "execution_count": null,
      "outputs": [
        {
          "output_type": "stream",
          "name": "stdout",
          "text": [
            "[44 40 44 44 15 40 40 40 44 44 22 44 44 15 44]\n",
            "-------------------------\n",
            "[ 70 553 468 402 422 553 553 553 402 402 170 402 402 531 402]\n"
          ]
        }
      ]
    },
    {
      "cell_type": "code",
      "source": [
        "# 2) Completar los datos faltantes en la columna precio\n",
        "\n",
        "array_price=np.array(data2['price'])\n",
        "array_price=np.reshape(array_price, (len(array_price), 1))\n",
        "imputer=SimpleImputer(missing_values = NaN, strategy='mean')\n",
        "Precio=imputer.fit_transform(array_price)\n",
        "print(np.shape(Precio))"
      ],
      "metadata": {
        "colab": {
          "base_uri": "https://localhost:8080/"
        },
        "id": "9mL7O_BY5AH-",
        "outputId": "6f496e80-fb3e-4146-c72f-6631be1eba47"
      },
      "execution_count": null,
      "outputs": [
        {
          "output_type": "stream",
          "name": "stdout",
          "text": [
            "(150930, 1)\n"
          ]
        }
      ]
    },
    {
      "cell_type": "code",
      "source": [
        "Puntuacion=np.array(data2['points'])\n",
        "\n",
        "x3=np.c_[Pais,Variedad,Puntuacion]\n",
        "y3=Precio\n",
        "print(np.shape(x3))\n",
        "print(np.shape(y3))\n",
        "print('-'*54)\n",
        "print(x3[0:10,:])\n",
        "print('-'*54)\n",
        "print(y3)"
      ],
      "metadata": {
        "id": "YsyPCZ026uLP"
      },
      "execution_count": null,
      "outputs": []
    },
    {
      "cell_type": "code",
      "source": [
        "#ESTANDARIZACION\n",
        "scaler = StandardScaler().fit(x3)\n",
        "x3_stand = scaler.transform(x3)\n",
        "scaler2 = StandardScaler().fit(y3)\n",
        "y3_stand = scaler2.transform(y3)\n",
        "\n",
        "print(x3_stand[0:10,:])\n",
        "print('-'*54)\n",
        "print(y3_stand)"
      ],
      "metadata": {
        "colab": {
          "base_uri": "https://localhost:8080/"
        },
        "id": "mwblIADy8O6L",
        "outputId": "2491d247-d521-460b-a631-0948bc84f7e1"
      },
      "execution_count": null,
      "outputs": [
        {
          "output_type": "stream",
          "name": "stdout",
          "text": [
            "[[ 0.96664712 -1.35465906  2.51726326]\n",
            " [ 0.70028744  1.29072199  2.51726326]\n",
            " [ 0.96664712  0.82517874  2.51726326]\n",
            " [ 0.96664712  0.4636981   2.51726326]\n",
            " [-0.96446054  0.57323769  2.20693374]\n",
            " [ 0.70028744  1.29072199  2.20693374]\n",
            " [ 0.70028744  1.29072199  2.20693374]\n",
            " [ 0.70028744  1.29072199  2.20693374]\n",
            " [ 0.96664712  0.4636981   2.20693374]\n",
            " [ 0.96664712  0.4636981   2.20693374]]\n",
            "------------------------------------------------------\n",
            "[[ 5.82840005]\n",
            " [ 2.21936772]\n",
            " [ 1.64192255]\n",
            " ...\n",
            " [-0.37913556]\n",
            " [ 0.54477672]\n",
            " [-0.52349685]]\n"
          ]
        }
      ]
    },
    {
      "cell_type": "code",
      "source": [
        "#ESCALAMIENTO\n",
        "escalador=MinMaxScaler()\n",
        "#escalador.fit(x2)\n",
        "x3_scal=escalador.fit_transform(x3_stand)\n",
        "y3_scal=escalador.fit_transform(y3_stand)\n",
        "print(x3_scal[0:10,:])\n",
        "print('-'*54)\n",
        "print(y3_scal)"
      ],
      "metadata": {
        "colab": {
          "base_uri": "https://localhost:8080/"
        },
        "id": "_Jjpf6m385D5",
        "outputId": "666b805d-dd7b-48b7-b168-4c6efae7a3fd"
      },
      "execution_count": null,
      "outputs": [
        {
          "output_type": "stream",
          "name": "stdout",
          "text": [
            "[[0.91666667 0.11093502 0.8       ]\n",
            " [0.83333333 0.87638669 0.8       ]\n",
            " [0.91666667 0.74167987 0.8       ]\n",
            " [0.91666667 0.63708399 0.8       ]\n",
            " [0.3125     0.66877971 0.75      ]\n",
            " [0.83333333 0.87638669 0.75      ]\n",
            " [0.83333333 0.87638669 0.75      ]\n",
            " [0.83333333 0.87638669 0.75      ]\n",
            " [0.91666667 0.63708399 0.75      ]\n",
            " [0.91666667 0.63708399 0.75      ]]\n",
            "------------------------------------------------------\n",
            "[[0.10060976]\n",
            " [0.04616725]\n",
            " [0.03745645]\n",
            " ...\n",
            " [0.00696864]\n",
            " [0.02090592]\n",
            " [0.00479094]]\n"
          ]
        }
      ]
    },
    {
      "cell_type": "code",
      "source": [
        "#Modelo Random Forest con 200 árboles \n",
        "x3train,x3test,y3train,y3test=tts(x3_scal,y3_scal,random_state=42,test_size=0.3)\n",
        "modelRF=RFR(n_estimators=200,random_state=42)\n",
        "modelRF.fit(x3train,y3train) #Entrenar modelo\n",
        "#Predicción\n",
        "y3predtrain=modelRF.predict(x3train)\n",
        "y3predtest=modelRF.predict(x3test)\n",
        "\n",
        "#Métricas\n",
        "r3_train=r2_score(y3train,y3predtrain)\n",
        "r3_test=r2_score(y3test,y3predtest)\n",
        "print('Resultados de la regresión de la data con Random Forest')\n",
        "print('El r^2 para entrenamiento es: ',r3_train)\n",
        "print('El r^2 para validación es: ',r3_test)"
      ],
      "metadata": {
        "colab": {
          "base_uri": "https://localhost:8080/"
        },
        "id": "g5z4ogRH9NKJ",
        "outputId": "a110105c-7166-4931-b06f-c87605918021"
      },
      "execution_count": null,
      "outputs": [
        {
          "output_type": "stream",
          "name": "stderr",
          "text": [
            "/usr/local/lib/python3.7/dist-packages/ipykernel_launcher.py:4: DataConversionWarning: A column-vector y was passed when a 1d array was expected. Please change the shape of y to (n_samples,), for example using ravel().\n",
            "  after removing the cwd from sys.path.\n"
          ]
        },
        {
          "output_type": "stream",
          "name": "stdout",
          "text": [
            "Resultados de la regresión de la data con Random Forest\n",
            "El r^2 para entrenamiento es:  0.46680398636671405\n",
            "El r^2 para validación es:  0.44090236802101135\n"
          ]
        }
      ]
    },
    {
      "cell_type": "markdown",
      "source": [
        "**Comentario:** De los resultados se deduce que no existe sobreajuste en el modelo de regresión, más bien los análogos de validación son casi tan precison como los de entrenamiento"
      ],
      "metadata": {
        "id": "8i5xv4XN_3SS"
      }
    },
    {
      "cell_type": "markdown",
      "source": [
        "# Pregunta 4: Graficar un modelo de deep learning para la dataset de breast-cancer\n",
        "---"
      ],
      "metadata": {
        "id": "oVK9SOvCw2R-"
      }
    },
    {
      "cell_type": "code",
      "source": [
        "data3=pd.read_csv('https://raw.githubusercontent.com/pedrorotta/PythonIntermedio2022/main/Examen/breast-cancer.csv')\n",
        "data3.head()"
      ],
      "metadata": {
        "id": "rbiYSYALw-o-",
        "colab": {
          "base_uri": "https://localhost:8080/",
          "height": 288
        },
        "outputId": "e280f1b4-7f10-4b93-85bd-1ebda60b88b4"
      },
      "execution_count": null,
      "outputs": [
        {
          "output_type": "execute_result",
          "data": {
            "text/html": [
              "\n",
              "  <div id=\"df-701381a7-9f6c-4830-967d-8dc35ae9f03e\">\n",
              "    <div class=\"colab-df-container\">\n",
              "      <div>\n",
              "<style scoped>\n",
              "    .dataframe tbody tr th:only-of-type {\n",
              "        vertical-align: middle;\n",
              "    }\n",
              "\n",
              "    .dataframe tbody tr th {\n",
              "        vertical-align: top;\n",
              "    }\n",
              "\n",
              "    .dataframe thead th {\n",
              "        text-align: right;\n",
              "    }\n",
              "</style>\n",
              "<table border=\"1\" class=\"dataframe\">\n",
              "  <thead>\n",
              "    <tr style=\"text-align: right;\">\n",
              "      <th></th>\n",
              "      <th>id</th>\n",
              "      <th>diagnosis</th>\n",
              "      <th>radius_mean</th>\n",
              "      <th>texture_mean</th>\n",
              "      <th>perimeter_mean</th>\n",
              "      <th>area_mean</th>\n",
              "      <th>smoothness_mean</th>\n",
              "      <th>compactness_mean</th>\n",
              "      <th>concavity_mean</th>\n",
              "      <th>concave points_mean</th>\n",
              "      <th>symmetry_mean</th>\n",
              "      <th>fractal_dimension_mean</th>\n",
              "      <th>radius_se</th>\n",
              "      <th>texture_se</th>\n",
              "      <th>perimeter_se</th>\n",
              "      <th>area_se</th>\n",
              "      <th>smoothness_se</th>\n",
              "      <th>compactness_se</th>\n",
              "      <th>concavity_se</th>\n",
              "      <th>concave points_se</th>\n",
              "      <th>symmetry_se</th>\n",
              "      <th>fractal_dimension_se</th>\n",
              "      <th>radius_worst</th>\n",
              "      <th>texture_worst</th>\n",
              "      <th>perimeter_worst</th>\n",
              "      <th>area_worst</th>\n",
              "      <th>smoothness_worst</th>\n",
              "      <th>compactness_worst</th>\n",
              "      <th>concavity_worst</th>\n",
              "      <th>concave points_worst</th>\n",
              "      <th>symmetry_worst</th>\n",
              "      <th>fractal_dimension_worst</th>\n",
              "    </tr>\n",
              "  </thead>\n",
              "  <tbody>\n",
              "    <tr>\n",
              "      <th>0</th>\n",
              "      <td>842302</td>\n",
              "      <td>M</td>\n",
              "      <td>17.99</td>\n",
              "      <td>10.38</td>\n",
              "      <td>122.80</td>\n",
              "      <td>1001.0</td>\n",
              "      <td>0.11840</td>\n",
              "      <td>0.27760</td>\n",
              "      <td>0.3001</td>\n",
              "      <td>0.14710</td>\n",
              "      <td>0.2419</td>\n",
              "      <td>0.07871</td>\n",
              "      <td>1.0950</td>\n",
              "      <td>0.9053</td>\n",
              "      <td>8.589</td>\n",
              "      <td>153.40</td>\n",
              "      <td>0.006399</td>\n",
              "      <td>0.04904</td>\n",
              "      <td>0.05373</td>\n",
              "      <td>0.01587</td>\n",
              "      <td>0.03003</td>\n",
              "      <td>0.006193</td>\n",
              "      <td>25.38</td>\n",
              "      <td>17.33</td>\n",
              "      <td>184.60</td>\n",
              "      <td>2019.0</td>\n",
              "      <td>0.1622</td>\n",
              "      <td>0.6656</td>\n",
              "      <td>0.7119</td>\n",
              "      <td>0.2654</td>\n",
              "      <td>0.4601</td>\n",
              "      <td>0.11890</td>\n",
              "    </tr>\n",
              "    <tr>\n",
              "      <th>1</th>\n",
              "      <td>842517</td>\n",
              "      <td>M</td>\n",
              "      <td>20.57</td>\n",
              "      <td>17.77</td>\n",
              "      <td>132.90</td>\n",
              "      <td>1326.0</td>\n",
              "      <td>0.08474</td>\n",
              "      <td>0.07864</td>\n",
              "      <td>0.0869</td>\n",
              "      <td>0.07017</td>\n",
              "      <td>0.1812</td>\n",
              "      <td>0.05667</td>\n",
              "      <td>0.5435</td>\n",
              "      <td>0.7339</td>\n",
              "      <td>3.398</td>\n",
              "      <td>74.08</td>\n",
              "      <td>0.005225</td>\n",
              "      <td>0.01308</td>\n",
              "      <td>0.01860</td>\n",
              "      <td>0.01340</td>\n",
              "      <td>0.01389</td>\n",
              "      <td>0.003532</td>\n",
              "      <td>24.99</td>\n",
              "      <td>23.41</td>\n",
              "      <td>158.80</td>\n",
              "      <td>1956.0</td>\n",
              "      <td>0.1238</td>\n",
              "      <td>0.1866</td>\n",
              "      <td>0.2416</td>\n",
              "      <td>0.1860</td>\n",
              "      <td>0.2750</td>\n",
              "      <td>0.08902</td>\n",
              "    </tr>\n",
              "    <tr>\n",
              "      <th>2</th>\n",
              "      <td>84300903</td>\n",
              "      <td>M</td>\n",
              "      <td>19.69</td>\n",
              "      <td>21.25</td>\n",
              "      <td>130.00</td>\n",
              "      <td>1203.0</td>\n",
              "      <td>0.10960</td>\n",
              "      <td>0.15990</td>\n",
              "      <td>0.1974</td>\n",
              "      <td>0.12790</td>\n",
              "      <td>0.2069</td>\n",
              "      <td>0.05999</td>\n",
              "      <td>0.7456</td>\n",
              "      <td>0.7869</td>\n",
              "      <td>4.585</td>\n",
              "      <td>94.03</td>\n",
              "      <td>0.006150</td>\n",
              "      <td>0.04006</td>\n",
              "      <td>0.03832</td>\n",
              "      <td>0.02058</td>\n",
              "      <td>0.02250</td>\n",
              "      <td>0.004571</td>\n",
              "      <td>23.57</td>\n",
              "      <td>25.53</td>\n",
              "      <td>152.50</td>\n",
              "      <td>1709.0</td>\n",
              "      <td>0.1444</td>\n",
              "      <td>0.4245</td>\n",
              "      <td>0.4504</td>\n",
              "      <td>0.2430</td>\n",
              "      <td>0.3613</td>\n",
              "      <td>0.08758</td>\n",
              "    </tr>\n",
              "    <tr>\n",
              "      <th>3</th>\n",
              "      <td>84348301</td>\n",
              "      <td>M</td>\n",
              "      <td>11.42</td>\n",
              "      <td>20.38</td>\n",
              "      <td>77.58</td>\n",
              "      <td>386.1</td>\n",
              "      <td>0.14250</td>\n",
              "      <td>0.28390</td>\n",
              "      <td>0.2414</td>\n",
              "      <td>0.10520</td>\n",
              "      <td>0.2597</td>\n",
              "      <td>0.09744</td>\n",
              "      <td>0.4956</td>\n",
              "      <td>1.1560</td>\n",
              "      <td>3.445</td>\n",
              "      <td>27.23</td>\n",
              "      <td>0.009110</td>\n",
              "      <td>0.07458</td>\n",
              "      <td>0.05661</td>\n",
              "      <td>0.01867</td>\n",
              "      <td>0.05963</td>\n",
              "      <td>0.009208</td>\n",
              "      <td>14.91</td>\n",
              "      <td>26.50</td>\n",
              "      <td>98.87</td>\n",
              "      <td>567.7</td>\n",
              "      <td>0.2098</td>\n",
              "      <td>0.8663</td>\n",
              "      <td>0.6869</td>\n",
              "      <td>0.2575</td>\n",
              "      <td>0.6638</td>\n",
              "      <td>0.17300</td>\n",
              "    </tr>\n",
              "    <tr>\n",
              "      <th>4</th>\n",
              "      <td>84358402</td>\n",
              "      <td>M</td>\n",
              "      <td>20.29</td>\n",
              "      <td>14.34</td>\n",
              "      <td>135.10</td>\n",
              "      <td>1297.0</td>\n",
              "      <td>0.10030</td>\n",
              "      <td>0.13280</td>\n",
              "      <td>0.1980</td>\n",
              "      <td>0.10430</td>\n",
              "      <td>0.1809</td>\n",
              "      <td>0.05883</td>\n",
              "      <td>0.7572</td>\n",
              "      <td>0.7813</td>\n",
              "      <td>5.438</td>\n",
              "      <td>94.44</td>\n",
              "      <td>0.011490</td>\n",
              "      <td>0.02461</td>\n",
              "      <td>0.05688</td>\n",
              "      <td>0.01885</td>\n",
              "      <td>0.01756</td>\n",
              "      <td>0.005115</td>\n",
              "      <td>22.54</td>\n",
              "      <td>16.67</td>\n",
              "      <td>152.20</td>\n",
              "      <td>1575.0</td>\n",
              "      <td>0.1374</td>\n",
              "      <td>0.2050</td>\n",
              "      <td>0.4000</td>\n",
              "      <td>0.1625</td>\n",
              "      <td>0.2364</td>\n",
              "      <td>0.07678</td>\n",
              "    </tr>\n",
              "  </tbody>\n",
              "</table>\n",
              "</div>\n",
              "      <button class=\"colab-df-convert\" onclick=\"convertToInteractive('df-701381a7-9f6c-4830-967d-8dc35ae9f03e')\"\n",
              "              title=\"Convert this dataframe to an interactive table.\"\n",
              "              style=\"display:none;\">\n",
              "        \n",
              "  <svg xmlns=\"http://www.w3.org/2000/svg\" height=\"24px\"viewBox=\"0 0 24 24\"\n",
              "       width=\"24px\">\n",
              "    <path d=\"M0 0h24v24H0V0z\" fill=\"none\"/>\n",
              "    <path d=\"M18.56 5.44l.94 2.06.94-2.06 2.06-.94-2.06-.94-.94-2.06-.94 2.06-2.06.94zm-11 1L8.5 8.5l.94-2.06 2.06-.94-2.06-.94L8.5 2.5l-.94 2.06-2.06.94zm10 10l.94 2.06.94-2.06 2.06-.94-2.06-.94-.94-2.06-.94 2.06-2.06.94z\"/><path d=\"M17.41 7.96l-1.37-1.37c-.4-.4-.92-.59-1.43-.59-.52 0-1.04.2-1.43.59L10.3 9.45l-7.72 7.72c-.78.78-.78 2.05 0 2.83L4 21.41c.39.39.9.59 1.41.59.51 0 1.02-.2 1.41-.59l7.78-7.78 2.81-2.81c.8-.78.8-2.07 0-2.86zM5.41 20L4 18.59l7.72-7.72 1.47 1.35L5.41 20z\"/>\n",
              "  </svg>\n",
              "      </button>\n",
              "      \n",
              "  <style>\n",
              "    .colab-df-container {\n",
              "      display:flex;\n",
              "      flex-wrap:wrap;\n",
              "      gap: 12px;\n",
              "    }\n",
              "\n",
              "    .colab-df-convert {\n",
              "      background-color: #E8F0FE;\n",
              "      border: none;\n",
              "      border-radius: 50%;\n",
              "      cursor: pointer;\n",
              "      display: none;\n",
              "      fill: #1967D2;\n",
              "      height: 32px;\n",
              "      padding: 0 0 0 0;\n",
              "      width: 32px;\n",
              "    }\n",
              "\n",
              "    .colab-df-convert:hover {\n",
              "      background-color: #E2EBFA;\n",
              "      box-shadow: 0px 1px 2px rgba(60, 64, 67, 0.3), 0px 1px 3px 1px rgba(60, 64, 67, 0.15);\n",
              "      fill: #174EA6;\n",
              "    }\n",
              "\n",
              "    [theme=dark] .colab-df-convert {\n",
              "      background-color: #3B4455;\n",
              "      fill: #D2E3FC;\n",
              "    }\n",
              "\n",
              "    [theme=dark] .colab-df-convert:hover {\n",
              "      background-color: #434B5C;\n",
              "      box-shadow: 0px 1px 3px 1px rgba(0, 0, 0, 0.15);\n",
              "      filter: drop-shadow(0px 1px 2px rgba(0, 0, 0, 0.3));\n",
              "      fill: #FFFFFF;\n",
              "    }\n",
              "  </style>\n",
              "\n",
              "      <script>\n",
              "        const buttonEl =\n",
              "          document.querySelector('#df-701381a7-9f6c-4830-967d-8dc35ae9f03e button.colab-df-convert');\n",
              "        buttonEl.style.display =\n",
              "          google.colab.kernel.accessAllowed ? 'block' : 'none';\n",
              "\n",
              "        async function convertToInteractive(key) {\n",
              "          const element = document.querySelector('#df-701381a7-9f6c-4830-967d-8dc35ae9f03e');\n",
              "          const dataTable =\n",
              "            await google.colab.kernel.invokeFunction('convertToInteractive',\n",
              "                                                     [key], {});\n",
              "          if (!dataTable) return;\n",
              "\n",
              "          const docLinkHtml = 'Like what you see? Visit the ' +\n",
              "            '<a target=\"_blank\" href=https://colab.research.google.com/notebooks/data_table.ipynb>data table notebook</a>'\n",
              "            + ' to learn more about interactive tables.';\n",
              "          element.innerHTML = '';\n",
              "          dataTable['output_type'] = 'display_data';\n",
              "          await google.colab.output.renderOutput(dataTable, element);\n",
              "          const docLink = document.createElement('div');\n",
              "          docLink.innerHTML = docLinkHtml;\n",
              "          element.appendChild(docLink);\n",
              "        }\n",
              "      </script>\n",
              "    </div>\n",
              "  </div>\n",
              "  "
            ],
            "text/plain": [
              "         id diagnosis  ...  symmetry_worst  fractal_dimension_worst\n",
              "0    842302         M  ...          0.4601                  0.11890\n",
              "1    842517         M  ...          0.2750                  0.08902\n",
              "2  84300903         M  ...          0.3613                  0.08758\n",
              "3  84348301         M  ...          0.6638                  0.17300\n",
              "4  84358402         M  ...          0.2364                  0.07678\n",
              "\n",
              "[5 rows x 32 columns]"
            ]
          },
          "metadata": {},
          "execution_count": 107
        }
      ]
    },
    {
      "cell_type": "code",
      "source": [
        "dfx4=data3.drop(columns=['id','diagnosis'])"
      ],
      "metadata": {
        "id": "2Wtyw47DCg3P"
      },
      "execution_count": null,
      "outputs": []
    },
    {
      "cell_type": "code",
      "source": [
        "#Procesamiento de la data\n",
        "y4=np.array(data3['diagnosis'])\n",
        "\n",
        "#Decodificación\n",
        "encoder=LabelEncoder()\n",
        "y4=encoder.fit_transform(y4)\n",
        "print(y4[:4])\n",
        "y4=np.reshape(y4,(len(y4),1))\n",
        "print(np.shape(y4))"
      ],
      "metadata": {
        "colab": {
          "base_uri": "https://localhost:8080/"
        },
        "id": "ExAUrOYQCkaC",
        "outputId": "00980fb0-24c9-4dba-8c26-40e8a34031eb"
      },
      "execution_count": null,
      "outputs": [
        {
          "output_type": "stream",
          "name": "stdout",
          "text": [
            "[1 1 1 1]\n",
            "(569, 1)\n"
          ]
        }
      ]
    },
    {
      "cell_type": "code",
      "source": [
        "#Escalamiento\n",
        "escalar=MinMaxScaler()\n",
        "x4=np.array(dfx4)\n",
        "x4=escalar.fit_transform(x4)\n",
        "print(np.shape(x4))"
      ],
      "metadata": {
        "colab": {
          "base_uri": "https://localhost:8080/"
        },
        "id": "JrSsNX0qDKiU",
        "outputId": "624c3b6c-1625-45e8-f861-b73e1c266874"
      },
      "execution_count": null,
      "outputs": [
        {
          "output_type": "stream",
          "name": "stdout",
          "text": [
            "(569, 30)\n"
          ]
        }
      ]
    },
    {
      "cell_type": "code",
      "source": [
        "#Dividir la data\n",
        "x4train,x4test,y4train,y4test=tts(x4,y4)"
      ],
      "metadata": {
        "id": "LqJXnT-4DeYx"
      },
      "execution_count": null,
      "outputs": []
    },
    {
      "cell_type": "code",
      "source": [
        "#Modelo\n",
        "ModeloClasificador = tf.keras.Sequential([\n",
        "      tf.keras.Input(shape = (30,)),\n",
        "      tf.keras.layers.Dense(30,activation = 'relu'),\n",
        "      tf.keras.layers.Dense(20,activation = 'relu'),\n",
        "      tf.keras.layers.Dense(10,activation = 'relu'),\n",
        "      tf.keras.layers.Dense(5,activation = 'relu'),\n",
        "      tf.keras.layers.Dense(2,activation = 'relu'),\n",
        "      tf.keras.layers.Dense(1,activation = 'sigmoid')\n",
        "])\n",
        "\n",
        "ModeloClasificador.compile(loss = tf.keras.losses.binary_crossentropy,optimizer = tf.keras.optimizers.SGD(),\n",
        "                           metrics = 'accuracy')\n",
        "\n",
        "historico=ModeloClasificador.fit(x4train,y4train,epochs = 500,verbose = False)"
      ],
      "metadata": {
        "id": "Avg25BCgDnKs"
      },
      "execution_count": null,
      "outputs": []
    },
    {
      "cell_type": "code",
      "source": [
        "#Predicciones\n",
        "y4predTrain=np.round(ModeloClasificador(x4train),0) #Convertir las predicciones a enteros\n",
        "y4predTest=np.round(ModeloClasificador(x4test),0)\n",
        "recall_test = recall_score(y4test,y4predTest)\n",
        "recall_train = recall_score(y4train,y4predTrain)\n",
        "\n",
        "matriztrain =confusion_matrix(y4train,y4predTrain)\n",
        "matriztest =confusion_matrix(y4test,y4predTest)\n",
        "\n",
        "print('Resultados de la regresión:')\n",
        "print('El recall para entrenamiento es: ',recall_train)\n",
        "print('El recall para validación es: ',recall_test)\n",
        "print('-'*36)\n",
        "print('La matriz de confusión para el entrenamiento es:')\n",
        "print(matriztrain)\n",
        "print('La matriz de confusión para la validación es:')\n",
        "print(matriztest)"
      ],
      "metadata": {
        "colab": {
          "base_uri": "https://localhost:8080/"
        },
        "id": "iLLH5LgkFG3q",
        "outputId": "38299c39-9f54-4df9-fe77-c0f8a8117a8d"
      },
      "execution_count": null,
      "outputs": [
        {
          "output_type": "stream",
          "name": "stdout",
          "text": [
            "Resultados de la regresión:\n",
            "El recall para entrenamiento es:  0.9685534591194969\n",
            "El recall para validación es:  1.0\n",
            "------------------------------------\n",
            "La matriz de confusión para el entrenamiento es:\n",
            "[[261   6]\n",
            " [  5 154]]\n",
            "La matriz de confusión para la validación es:\n",
            "[[87  3]\n",
            " [ 0 53]]\n"
          ]
        }
      ]
    },
    {
      "cell_type": "code",
      "source": [
        "#Describir la gráfica del model\n",
        "ModeloClasificador.build()\n",
        "ModeloClasificador.summary()"
      ],
      "metadata": {
        "colab": {
          "base_uri": "https://localhost:8080/"
        },
        "id": "g0VRgz1GGg59",
        "outputId": "a26fdbdd-fee6-4bc6-cc69-cf62bd033201"
      },
      "execution_count": null,
      "outputs": [
        {
          "output_type": "stream",
          "name": "stdout",
          "text": [
            "Model: \"sequential_2\"\n",
            "_________________________________________________________________\n",
            " Layer (type)                Output Shape              Param #   \n",
            "=================================================================\n",
            " dense_12 (Dense)            (None, 30)                930       \n",
            "                                                                 \n",
            " dense_13 (Dense)            (None, 20)                620       \n",
            "                                                                 \n",
            " dense_14 (Dense)            (None, 10)                210       \n",
            "                                                                 \n",
            " dense_15 (Dense)            (None, 5)                 55        \n",
            "                                                                 \n",
            " dense_16 (Dense)            (None, 2)                 12        \n",
            "                                                                 \n",
            " dense_17 (Dense)            (None, 1)                 3         \n",
            "                                                                 \n",
            "=================================================================\n",
            "Total params: 1,830\n",
            "Trainable params: 1,830\n",
            "Non-trainable params: 0\n",
            "_________________________________________________________________\n"
          ]
        }
      ]
    },
    {
      "cell_type": "code",
      "source": [
        "#Gráfica\n",
        "pd.DataFrame(historico.history).plot()"
      ],
      "metadata": {
        "colab": {
          "base_uri": "https://localhost:8080/",
          "height": 282
        },
        "id": "rOgT2RcfGx6m",
        "outputId": "8864515b-75ed-43bd-9427-63b11ed0f21c"
      },
      "execution_count": null,
      "outputs": [
        {
          "output_type": "execute_result",
          "data": {
            "text/plain": [
              "<matplotlib.axes._subplots.AxesSubplot at 0x7f5936cbb310>"
            ]
          },
          "metadata": {},
          "execution_count": 115
        },
        {
          "output_type": "display_data",
          "data": {
            "image/png": "[encoded data removed]",
            "text/plain": [
              "<Figure size 432x288 with 1 Axes>"
            ]
          },
          "metadata": {
            "needs_background": "light"
          }
        }
      ]
    },
    {
      "cell_type": "markdown",
      "source": [
        "##**Pregunta 5: Crear una función que aplane  una imagen**\n",
        "---"
      ],
      "metadata": {
        "id": "jtDY7lraG6yS"
      }
    },
    {
      "cell_type": "code",
      "source": [
        "def Aplanar():\n",
        "  id=input('Ingrese, por favor, la ID de su imagen')\n",
        "  img=plt.imread(id)\n",
        "  print('Su imagen original es:')\n",
        "  plt.imshow(img)\n",
        "  plt.show()\n",
        "  img_plana=img.flatten()\n",
        "  return print('Su imagen aplanada es:',img_plana)"
      ],
      "metadata": {
        "id": "52bQyltnHSlL"
      },
      "execution_count": null,
      "outputs": []
    },
    {
      "cell_type": "code",
      "source": [
        "Aplanar()"
      ],
      "metadata": {
        "colab": {
          "base_uri": "https://localhost:8080/",
          "height": 315
        },
        "id": "kRmCA42PJEsv",
        "outputId": "4d8bc97e-defa-4966-c186-aba222b45b7d"
      },
      "execution_count": null,
      "outputs": [
        {
          "output_type": "stream",
          "name": "stdout",
          "text": [
            "Ingrese, por favor, la ID de su imagenMatt_Baker.jpg\n",
            "Su imagen original es:\n"
          ]
        },
        {
          "output_type": "display_data",
          "data": {
            "image/png": "[encoded data removed]",
            "text/plain": [
              "<Figure size 432x288 with 1 Axes>"
            ]
          },
          "metadata": {
            "needs_background": "light"
          }
        },
        {
          "output_type": "stream",
          "name": "stdout",
          "text": [
            "Su imagen aplanada es: [0 0 0 ... 0 0 0]\n"
          ]
        }
      ]
    }
  ]
}